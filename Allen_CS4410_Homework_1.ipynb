{
  "nbformat": 4,
  "nbformat_minor": 0,
  "metadata": {
    "colab": {
      "provenance": []
    },
    "kernelspec": {
      "name": "python3",
      "display_name": "Python 3"
    },
    "language_info": {
      "name": "python"
    }
  },
  "cells": [
    {
      "cell_type": "code",
      "execution_count": 24,
      "metadata": {
        "id": "nR15zlnBYBLK"
      },
      "outputs": [],
      "source": [
        "#Joseph Brandon Allen CS4410 Homework 1\n",
        "import pandas as pd\n",
        "import numpy as np"
      ]
    },
    {
      "cell_type": "code",
      "source": [
        "#Importing the dataset from github and loading it into a data frame\n",
        "url = 'https://vincentarelbundock.github.io/Rdatasets/csv/ggplot2/diamonds.csv'\n",
        "df = pd.read_csv(url, index_col=0)"
      ],
      "metadata": {
        "id": "g8ebi9d6hifo"
      },
      "execution_count": 25,
      "outputs": []
    },
    {
      "cell_type": "code",
      "source": [
        "#Display the first 7 rows\n",
        "df_first_7 = df.head(7)\n",
        "print(df_first_7)"
      ],
      "metadata": {
        "id": "PJp9y_IZkw-6"
      },
      "execution_count": null,
      "outputs": []
    },
    {
      "cell_type": "code",
      "source": [
        "#Display the last 7 rows\n",
        "df_last_7 = df.tail(7)\n",
        "print(df_last_7)"
      ],
      "metadata": {
        "id": "96CDVR70jIda"
      },
      "execution_count": null,
      "outputs": []
    },
    {
      "cell_type": "code",
      "source": [
        "#Use the describe method to show statistics on the numerical columns\n",
        "print(df.describe())"
      ],
      "metadata": {
        "id": "gKPYDfjEkWpV"
      },
      "execution_count": null,
      "outputs": []
    },
    {
      "cell_type": "code",
      "source": [
        "#Use the series describe method to show the descriptive statistics for the categorical columns\n",
        "#and show the unique category values with the series unique method\n",
        "cut_series = df['cut'].squeeze()\n",
        "color_series = df['color'].squeeze()\n",
        "clarity_series = df['clarity'].squeeze()\n",
        "\n",
        "print('Cut Statistics: ')\n",
        "print(cut_series.describe())\n",
        "print(cut_series.unique(), '\\n')\n",
        "\n",
        "print('Color Statistics: ')\n",
        "print(color_series.describe())\n",
        "print(color_series.unique(), '\\n')\n",
        "\n",
        "print('Clarity Statistics: ')\n",
        "print(clarity_series.describe())\n",
        "print(clarity_series.unique())"
      ],
      "metadata": {
        "id": "n3rWruAOn-RP"
      },
      "execution_count": null,
      "outputs": []
    },
    {
      "cell_type": "code",
      "source": [
        "#View histograms of each numerical data column\n",
        "df.hist(figsize=(10, 15))"
      ],
      "metadata": {
        "id": "vMTyec2EqSv4"
      },
      "execution_count": null,
      "outputs": []
    }
  ]
}