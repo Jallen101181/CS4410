{
  "nbformat": 4,
  "nbformat_minor": 0,
  "metadata": {
    "colab": {
      "provenance": [],
      "authorship_tag": "ABX9TyOuKPnnsBaZOhDzIv9EtkPw",
      "include_colab_link": true
    },
    "kernelspec": {
      "name": "python3",
      "display_name": "Python 3"
    },
    "language_info": {
      "name": "python"
    }
  },
  "cells": [
    {
      "cell_type": "markdown",
      "metadata": {
        "id": "view-in-github",
        "colab_type": "text"
      },
      "source": [
        "<a href=\"https://colab.research.google.com/github/Jallen101181/CS4410/blob/main/Allen_CS4410_Week_7_Discussion_12_3.ipynb\" target=\"_parent\"><img src=\"https://colab.research.google.com/assets/colab-badge.svg\" alt=\"Open In Colab\"/></a>"
      ]
    },
    {
      "cell_type": "code",
      "execution_count": 1,
      "metadata": {
        "id": "_zETvmgWbwgG"
      },
      "outputs": [],
      "source": [
        "import requests"
      ]
    },
    {
      "cell_type": "code",
      "source": [
        "import nltk\n",
        "\n",
        "nltk.download('punkt')"
      ],
      "metadata": {
        "colab": {
          "base_uri": "https://localhost:8080/"
        },
        "id": "9DywvTIYe0Kj",
        "outputId": "18356a76-4c4e-4a9c-8b7c-4eee8e652257"
      },
      "execution_count": 2,
      "outputs": [
        {
          "output_type": "stream",
          "name": "stderr",
          "text": [
            "[nltk_data] Downloading package punkt to /root/nltk_data...\n",
            "[nltk_data]   Package punkt is already up-to-date!\n"
          ]
        },
        {
          "output_type": "execute_result",
          "data": {
            "text/plain": [
              "True"
            ]
          },
          "metadata": {},
          "execution_count": 2
        }
      ]
    },
    {
      "cell_type": "markdown",
      "source": [
        "Get news article"
      ],
      "metadata": {
        "id": "U0IDJiP5fxBI"
      }
    },
    {
      "cell_type": "code",
      "source": [
        "response = requests.get('https://www.npr.org/2024/02/25/1233831166/nikki-haley-americans-for-prosperity-afp-koch-brothers-network-donors-trump')"
      ],
      "metadata": {
        "id": "xu0vRWUzb81z"
      },
      "execution_count": 3,
      "outputs": []
    },
    {
      "cell_type": "markdown",
      "source": [
        "Use BeautifulSoup to try and strip the text only"
      ],
      "metadata": {
        "id": "cuoPVO8Qf2AE"
      }
    },
    {
      "cell_type": "code",
      "source": [
        "from bs4 import BeautifulSoup"
      ],
      "metadata": {
        "id": "LvNlD8KocDw4"
      },
      "execution_count": 4,
      "outputs": []
    },
    {
      "cell_type": "code",
      "source": [
        "soup = BeautifulSoup(response.content, 'html5lib')"
      ],
      "metadata": {
        "id": "TTt1z4nGcGkz"
      },
      "execution_count": 5,
      "outputs": []
    },
    {
      "cell_type": "code",
      "source": [
        "text = soup.get_text(strip=True)"
      ],
      "metadata": {
        "id": "uZJB4Bz-cMFA"
      },
      "execution_count": 6,
      "outputs": []
    },
    {
      "cell_type": "markdown",
      "source": [
        "Create a text blob"
      ],
      "metadata": {
        "id": "445CnPy7f5UG"
      }
    },
    {
      "cell_type": "code",
      "source": [
        "from textblob import TextBlob"
      ],
      "metadata": {
        "id": "vG0TZhkceMv5"
      },
      "execution_count": 7,
      "outputs": []
    },
    {
      "cell_type": "code",
      "source": [
        "blob = TextBlob(text)"
      ],
      "metadata": {
        "id": "tXez65BgePBz"
      },
      "execution_count": 8,
      "outputs": []
    },
    {
      "cell_type": "markdown",
      "source": [
        "Blob sentiment. The overall sentiment is basically neutral and very slightly subjective."
      ],
      "metadata": {
        "id": "SzMJO_Pwf65J"
      }
    },
    {
      "cell_type": "code",
      "source": [
        "blob.sentiment"
      ],
      "metadata": {
        "colab": {
          "base_uri": "https://localhost:8080/"
        },
        "id": "KbdluhYzeTAE",
        "outputId": "e9cf5fe2-65fe-4796-e15a-fde91dcd1f7b"
      },
      "execution_count": 9,
      "outputs": [
        {
          "output_type": "execute_result",
          "data": {
            "text/plain": [
              "Sentiment(polarity=-0.006625465178096777, subjectivity=0.564274322169059)"
            ]
          },
          "metadata": {},
          "execution_count": 9
        }
      ]
    },
    {
      "cell_type": "markdown",
      "source": [
        "Per sentence sentiment. I think BeautifulSoup has a difficult time with these news articles pulling just the content."
      ],
      "metadata": {
        "id": "psJyh3eFf8da"
      }
    },
    {
      "cell_type": "code",
      "source": [
        "for sentence in blob.sentences:\n",
        "  print(sentence.sentiment)"
      ],
      "metadata": {
        "colab": {
          "base_uri": "https://localhost:8080/"
        },
        "id": "sEkukm8velyX",
        "outputId": "ae52b44e-9063-4e42-a480-9df1a5970db6"
      },
      "execution_count": 10,
      "outputs": [
        {
          "output_type": "stream",
          "name": "stdout",
          "text": [
            "Sentiment(polarity=0.24318181818181817, subjectivity=0.5522727272727272)\n",
            "Sentiment(polarity=0.1346590909090909, subjectivity=0.6424242424242425)\n",
            "Sentiment(polarity=-0.15946969696969696, subjectivity=0.7833333333333333)\n",
            "Sentiment(polarity=0.0, subjectivity=0.0)\n",
            "Sentiment(polarity=-0.3395833333333334, subjectivity=0.7208333333333333)\n",
            "Sentiment(polarity=0.22569444444444442, subjectivity=0.5472222222222222)\n",
            "Sentiment(polarity=0.0, subjectivity=0.016666666666666666)\n",
            "Sentiment(polarity=0.0, subjectivity=0.0)\n",
            "Sentiment(polarity=0.0, subjectivity=0.0)\n",
            "Sentiment(polarity=0.2003367003367003, subjectivity=0.431986531986532)\n",
            "Sentiment(polarity=0.2, subjectivity=0.275)\n",
            "Sentiment(polarity=0.0, subjectivity=0.0)\n",
            "Sentiment(polarity=0.0, subjectivity=0.0)\n",
            "Sentiment(polarity=0.0, subjectivity=0.0)\n",
            "Sentiment(polarity=0.3, subjectivity=0.3666666666666667)\n",
            "Sentiment(polarity=-0.10000000000000002, subjectivity=0.35555555555555557)\n"
          ]
        }
      ]
    }
  ]
}